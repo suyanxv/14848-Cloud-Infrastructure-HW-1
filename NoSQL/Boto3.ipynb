{
 "cells": [
  {
   "cell_type": "code",
   "execution_count": 1,
   "metadata": {},
   "outputs": [],
   "source": [
    "import boto3"
   ]
  },
  {
   "cell_type": "code",
   "execution_count": 2,
   "metadata": {},
   "outputs": [],
   "source": [
    "# constants\n",
    "BUCKET_NAME = 'datacont-name-234'\n",
    "AWS_ACCESS_KEY_ID = 'SOME_ID'\n",
    "AWS_SECRET_ACCESS_KEY = 'SOME_KEY'"
   ]
  },
  {
   "cell_type": "code",
   "execution_count": 3,
   "metadata": {},
   "outputs": [],
   "source": [
    "s3 = boto3.resource('s3',\n",
    "    aws_access_key_id=AWS_ACCESS_KEY_ID,\n",
    "    aws_secret_access_key=AWS_SECRET_ACCESS_KEY)"
   ]
  },
  {
   "cell_type": "code",
   "execution_count": 4,
   "metadata": {},
   "outputs": [
    {
     "name": "stdout",
     "output_type": "stream",
     "text": [
      "An error occurred (BucketAlreadyOwnedByYou) when calling the CreateBucket operation: Your previous request to create the named bucket succeeded and you already own it.\n"
     ]
    }
   ],
   "source": [
    "# create bucket\n",
    "try:\n",
    "    s3.create_bucket(Bucket=BUCKET_NAME, CreateBucketConfiguration={\n",
    "    'LocationConstraint': 'us-west-2'}) \n",
    "except Exception as e:\n",
    "    print (e)"
   ]
  },
  {
   "cell_type": "code",
   "execution_count": 5,
   "metadata": {},
   "outputs": [],
   "source": [
    "# get bucket\n",
    "bucket = s3.Bucket(BUCKET_NAME)"
   ]
  },
  {
   "cell_type": "code",
   "execution_count": 6,
   "metadata": {},
   "outputs": [
    {
     "data": {
      "text/plain": [
       "{'ResponseMetadata': {'RequestId': 'HJNY29184SP9S4T1',\n",
       "  'HostId': 'eALBpjcYt6jHT3xfuhVwciI3N4B/pk5oQ+XyqZXifC9VL96xci9tEqVfFmMnU6vF5DJQelmLSso=',\n",
       "  'HTTPStatusCode': 200,\n",
       "  'HTTPHeaders': {'x-amz-id-2': 'eALBpjcYt6jHT3xfuhVwciI3N4B/pk5oQ+XyqZXifC9VL96xci9tEqVfFmMnU6vF5DJQelmLSso=',\n",
       "   'x-amz-request-id': 'HJNY29184SP9S4T1',\n",
       "   'date': 'Wed, 20 Oct 2021 21:08:49 GMT',\n",
       "   'server': 'AmazonS3',\n",
       "   'content-length': '0'},\n",
       "  'RetryAttempts': 0}}"
      ]
     },
     "execution_count": 6,
     "metadata": {},
     "output_type": "execute_result"
    }
   ],
   "source": [
    "# make bucket publicly readable\n",
    "bucket.Acl().put(ACL='public-read')"
   ]
  },
  {
   "cell_type": "code",
   "execution_count": 7,
   "metadata": {},
   "outputs": [
    {
     "data": {
      "text/plain": [
       "{'ResponseMetadata': {'RequestId': 'S454DNZSA3MDC3Y4',\n",
       "  'HostId': 'o5co3TlgHQY9c+2cyCNgq2a7rfaYRZ2H+uLvJfAUAmJb0O4uHM2W8YIs0qzrtTiXYChCrZCIBf8=',\n",
       "  'HTTPStatusCode': 200,\n",
       "  'HTTPHeaders': {'x-amz-id-2': 'o5co3TlgHQY9c+2cyCNgq2a7rfaYRZ2H+uLvJfAUAmJb0O4uHM2W8YIs0qzrtTiXYChCrZCIBf8=',\n",
       "   'x-amz-request-id': 'S454DNZSA3MDC3Y4',\n",
       "   'date': 'Wed, 20 Oct 2021 21:10:59 GMT',\n",
       "   'server': 'AmazonS3',\n",
       "   'content-length': '0'},\n",
       "  'RetryAttempts': 0}}"
      ]
     },
     "execution_count": 7,
     "metadata": {},
     "output_type": "execute_result"
    }
   ],
   "source": [
    "# upload exp1.csv into the bucket\n",
    "exp1 = open('exp1.csv', 'rb')\n",
    "o = s3.Object(BUCKET_NAME, 'exp1.csv').put(Body=exp1)\n",
    "s3.Object(BUCKET_NAME, 'exp1.csv').Acl().put(ACL='public-read')"
   ]
  },
  {
   "cell_type": "code",
   "execution_count": 8,
   "metadata": {},
   "outputs": [
    {
     "data": {
      "text/plain": [
       "{'ResponseMetadata': {'RequestId': 'HK32Z98ER4QFZZQ8',\n",
       "  'HostId': 'QpnFzks8PJ2G3KaLsP0QHwuyfwgJU3fFChF/HRWhnqImdiI3yxygnlwiujgW/hQaBg0LEq/n7iI=',\n",
       "  'HTTPStatusCode': 200,\n",
       "  'HTTPHeaders': {'x-amz-id-2': 'QpnFzks8PJ2G3KaLsP0QHwuyfwgJU3fFChF/HRWhnqImdiI3yxygnlwiujgW/hQaBg0LEq/n7iI=',\n",
       "   'x-amz-request-id': 'HK32Z98ER4QFZZQ8',\n",
       "   'date': 'Wed, 20 Oct 2021 21:12:02 GMT',\n",
       "   'server': 'AmazonS3',\n",
       "   'content-length': '0'},\n",
       "  'RetryAttempts': 0}}"
      ]
     },
     "execution_count": 8,
     "metadata": {},
     "output_type": "execute_result"
    }
   ],
   "source": [
    "# upload exp2.csv into the bucket\n",
    "exp2 = open('exp2.csv', 'rb')\n",
    "o = s3.Object(BUCKET_NAME, 'exp2.csv').put(Body=exp2)\n",
    "s3.Object(BUCKET_NAME, 'exp2.csv').Acl().put(ACL='public-read')"
   ]
  },
  {
   "cell_type": "code",
   "execution_count": 9,
   "metadata": {},
   "outputs": [
    {
     "data": {
      "text/plain": [
       "{'ResponseMetadata': {'RequestId': 'J1GXFARV3YE7CQHW',\n",
       "  'HostId': 'EMloBiZ7P/VcHL0IB+UXGzA23rbSNs/Mmux0a+b9TPvR/e+Khh9VdY3cP6mtvm6KkmEpgFMjyus=',\n",
       "  'HTTPStatusCode': 200,\n",
       "  'HTTPHeaders': {'x-amz-id-2': 'EMloBiZ7P/VcHL0IB+UXGzA23rbSNs/Mmux0a+b9TPvR/e+Khh9VdY3cP6mtvm6KkmEpgFMjyus=',\n",
       "   'x-amz-request-id': 'J1GXFARV3YE7CQHW',\n",
       "   'date': 'Wed, 20 Oct 2021 21:12:03 GMT',\n",
       "   'server': 'AmazonS3',\n",
       "   'content-length': '0'},\n",
       "  'RetryAttempts': 0}}"
      ]
     },
     "execution_count": 9,
     "metadata": {},
     "output_type": "execute_result"
    }
   ],
   "source": [
    "# upload exp3.csv into the bucket\n",
    "exp3 = open('exp3.csv', 'rb')\n",
    "o = s3.Object(BUCKET_NAME, 'exp3.csv').put(Body=exp3)\n",
    "s3.Object(BUCKET_NAME, 'exp3.csv').Acl().put(ACL='public-read')"
   ]
  },
  {
   "cell_type": "code",
   "execution_count": 10,
   "metadata": {},
   "outputs": [],
   "source": [
    "# create dynamodb table\n",
    "dyndb = boto3.resource('dynamodb',\n",
    "    region_name='us-west-2',\n",
    "    aws_access_key_id=AWS_ACCESS_KEY_ID, \n",
    "    aws_secret_access_key=AWS_SECRET_ACCESS_KEY\n",
    ")"
   ]
  },
  {
   "cell_type": "code",
   "execution_count": 11,
   "metadata": {},
   "outputs": [],
   "source": [
    "# create table\n",
    "try:\n",
    "    table = dyndb.create_table(\n",
    "        TableName='DataTable3',\n",
    "        KeySchema=[\n",
    "            {\n",
    "                'AttributeName': 'PartitionKey',\n",
    "                'KeyType': 'HASH'\n",
    "            }\n",
    "            , \n",
    "            {\n",
    "                'AttributeName': 'RowKey',\n",
    "                'KeyType': 'RANGE'\n",
    "            }\n",
    "        ],\n",
    "        AttributeDefinitions=[\n",
    "            {\n",
    "                'AttributeName': 'PartitionKey',\n",
    "                'AttributeType': 'S'\n",
    "            }\n",
    "            , \n",
    "            {\n",
    "                'AttributeName': 'RowKey',\n",
    "                'AttributeType': 'S'\n",
    "            },\n",
    "        ],\n",
    "        ProvisionedThroughput={\n",
    "            'ReadCapacityUnits': 5,\n",
    "            'WriteCapacityUnits': 5\n",
    "        }\n",
    "    )\n",
    "except Exception as e:\n",
    "    print (e)\n",
    "    #if there is an exception, the table may already exist.\n",
    "    table = dyndb.Table(\"DataTable\")\n"
   ]
  },
  {
   "cell_type": "code",
   "execution_count": 12,
   "metadata": {},
   "outputs": [],
   "source": [
    "# wait for the table to be created\n",
    "table.meta.client.get_waiter('table_exists').wait(TableName='DataTable3')"
   ]
  },
  {
   "cell_type": "code",
   "execution_count": 13,
   "metadata": {},
   "outputs": [
    {
     "name": "stdout",
     "output_type": "stream",
     "text": [
      "0\n"
     ]
    }
   ],
   "source": [
    "print(table.item_count)"
   ]
  },
  {
   "cell_type": "code",
   "execution_count": 14,
   "metadata": {},
   "outputs": [],
   "source": [
    "import csv"
   ]
  },
  {
   "cell_type": "code",
   "execution_count": 15,
   "metadata": {},
   "outputs": [
    {
     "name": "stdout",
     "output_type": "stream",
     "text": [
      "['1', '-1', '52', '3.4', 'exp1.csv']\n",
      "['2', '-2', '52.1', '3.4', 'exp2.csv']\n",
      "['3', '-2.93', '57.1', '3.7', 'exp3.csv']\n"
     ]
    }
   ],
   "source": [
    "with open('experiments.csv', 'rt') as csvfile: \n",
    "    csvf = csv.reader(csvfile, delimiter=',', quotechar='|')\n",
    "    next(csvf)\n",
    "    for item in csvf:\n",
    "        print(item)\n",
    "        body = open(item[4], 'rb') \n",
    "        s3.Object(BUCKET_NAME, item[4]).put(Body=body) \n",
    "        md = s3.Object(BUCKET_NAME, item[4]).Acl().put(ACL='public-read')\n",
    "        \n",
    "        url = \" https://s3-us-west-2.amazonaws.com/\"+BUCKET_NAME+\"/\"+item[4] \n",
    "        metadata_item = {'PartitionKey': item[0], 'RowKey': item[1],\n",
    "            'Conductivity' : item[2], 'Concentration' : item[3], 'url':url} # 'RowKey': item[1]\n",
    "        try: \n",
    "            table.put_item(Item=metadata_item)\n",
    "        except:\n",
    "            print(\"item may already be there or another failure\")"
   ]
  },
  {
   "cell_type": "code",
   "execution_count": 17,
   "metadata": {},
   "outputs": [
    {
     "name": "stdout",
     "output_type": "stream",
     "text": [
      "{'Concentration': '3.4', 'PartitionKey': '1', 'RowKey': '-1', 'url': ' https://s3-us-west-2.amazonaws.com/datacont-name-234/exp1.csv', 'Conductivity': '52'}\n"
     ]
    }
   ],
   "source": [
    "response = table.get_item(\n",
    "    Key={\n",
    "        'PartitionKey': '1',\n",
    "        'RowKey': '-1'\n",
    "    }\n",
    ")\n",
    "item = response['Item'] \n",
    "print(item)\n"
   ]
  },
  {
   "cell_type": "code",
   "execution_count": 19,
   "metadata": {},
   "outputs": [
    {
     "name": "stdout",
     "output_type": "stream",
     "text": [
      "{'Item': {'Concentration': '3.4', 'PartitionKey': '1', 'RowKey': '-1', 'url': ' https://s3-us-west-2.amazonaws.com/datacont-name-234/exp1.csv', 'Conductivity': '52'}, 'ResponseMetadata': {'RequestId': 'NSMAHAOCGLC4AF7ICHLR6UAR0JVV4KQNSO5AEMVJF66Q9ASUAAJG', 'HTTPStatusCode': 200, 'HTTPHeaders': {'server': 'Server', 'date': 'Wed, 20 Oct 2021 21:34:38 GMT', 'content-type': 'application/x-amz-json-1.0', 'content-length': '186', 'connection': 'keep-alive', 'x-amzn-requestid': 'NSMAHAOCGLC4AF7ICHLR6UAR0JVV4KQNSO5AEMVJF66Q9ASUAAJG', 'x-amz-crc32': '3815956703'}, 'RetryAttempts': 0}}\n"
     ]
    }
   ],
   "source": [
    "print(response)"
   ]
  },
  {
   "cell_type": "code",
   "execution_count": null,
   "metadata": {},
   "outputs": [],
   "source": []
  }
 ],
 "metadata": {
  "kernelspec": {
   "display_name": "Python 3",
   "language": "python",
   "name": "python3"
  },
  "language_info": {
   "codemirror_mode": {
    "name": "ipython",
    "version": 3
   },
   "file_extension": ".py",
   "mimetype": "text/x-python",
   "name": "python",
   "nbconvert_exporter": "python",
   "pygments_lexer": "ipython3",
   "version": "3.8.3"
  }
 },
 "nbformat": 4,
 "nbformat_minor": 4
}
