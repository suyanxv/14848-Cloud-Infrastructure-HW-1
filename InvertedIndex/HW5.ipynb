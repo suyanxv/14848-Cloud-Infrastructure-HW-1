{
 "cells": [
  {
   "cell_type": "code",
   "execution_count": 1,
   "id": "cba6e956",
   "metadata": {},
   "outputs": [],
   "source": [
    "import sys, shutil\n",
    "from pyspark import SparkContext, SparkConf\n",
    "from pyspark.sql.functions import input_file_name\n",
    "import zipfile, tarfile\n",
    "import os\n",
    "import re\n",
    "from string import punctuation\n",
    "# regex to split by punctuation\n",
    "r = re.compile(r'[\\s{}]+'.format(re.escape(punctuation)))\n",
    "stopwords = ['they', 'she', 'he', 'it', 'the', 'as', 'is', 'and']"
   ]
  },
  {
   "cell_type": "code",
   "execution_count": 2,
   "id": "873ad748",
   "metadata": {},
   "outputs": [],
   "source": [
    "# unzip Data.zip and .tar.gz files\n",
    "with zipfile.ZipFile('Data.zip', 'r') as zip_ref:\n",
    "    zip_ref.extractall('.')\n",
    "file = tarfile.open('Data/Hugo.tar.gz')\n",
    "file.extractall('Data/')\n",
    "file.close()\n",
    "file = tarfile.open('Data/shakespeare.tar.gz')\n",
    "file.extractall('Data/')\n",
    "file.close()\n",
    "file = tarfile.open('Data/Tolstoy.tar.gz')\n",
    "file.extractall('Data/')\n",
    "file.close()"
   ]
  },
  {
   "cell_type": "code",
   "execution_count": 3,
   "id": "f95ba0ab",
   "metadata": {},
   "outputs": [],
   "source": [
    "# traverse Data directory, move files to the input folder\n",
    "for root, dirs, files in os.walk(\"Data\"):\n",
    "    path = root.split(os.sep)\n",
    "    for file in files:\n",
    "        if (not file.endswith('.tar.gz')) and (not file.endswith('.zip')):\n",
    "            shutil.move(root + '/' +file, 'input/')"
   ]
  },
  {
   "cell_type": "code",
   "execution_count": 4,
   "id": "6e606806",
   "metadata": {},
   "outputs": [],
   "source": [
    "# word to posting mapper\n",
    "def word_posting_mapper(pair):\n",
    "    # split by punctuation\n",
    "    words = r.split(pair[1])\n",
    "    # turn to lower case\n",
    "    words = list(map(lambda w: w.lower(), words))\n",
    "    # remove stopwords\n",
    "    words = filter(lambda w: w not in stopwords and w != \"\", words)\n",
    "    # return list of word-posting tuples\n",
    "    # posting is in dictionary format, with filename as key and count (1) as value\n",
    "    return [(word, {pair[0]: 1}) for word in list(words)] "
   ]
  },
  {
   "cell_type": "code",
   "execution_count": 5,
   "id": "e1c4ce54",
   "metadata": {},
   "outputs": [],
   "source": [
    "# reducer\n",
    "def reducer(a,b):\n",
    "    # merge posting dictionary by key, i.e. for each word, sum the word counts for each filename\n",
    "    return {k: a.get(k, 0) + b.get(k, 0) for k in set(a) | set(b)}"
   ]
  },
  {
   "cell_type": "code",
   "execution_count": 6,
   "id": "b1cc265b",
   "metadata": {},
   "outputs": [
    {
     "name": "stderr",
     "output_type": "stream",
     "text": [
      "21/11/29 20:10:15 WARN NativeCodeLoader: Unable to load native-hadoop library for your platform... using builtin-java classes where applicable\n",
      "Using Spark's default log4j profile: org/apache/spark/log4j-defaults.properties\n",
      "Setting default log level to \"WARN\".\n",
      "To adjust logging level use sc.setLogLevel(newLevel). For SparkR, use setLogLevel(newLevel).\n",
      "                                                                                \r"
     ]
    }
   ],
   "source": [
    "conf = SparkConf()\n",
    "# create Spark context with necessary configuration\n",
    "sc = SparkContext.getOrCreate(conf=conf)\n",
    "# Conduct MapReduce and write the output to folder\n",
    "wordCounts = sc.textFile(\"input\")\n",
    "# get the filename, filecontent tuple\n",
    "path = sc.wholeTextFiles('input').map(\n",
    "    lambda x : (x[0], x[1])\n",
    ")\n",
    "words = path.flatMap(word_posting_mapper) \n",
    "reduced = words.reduceByKey(reducer) \n",
    "# reduce and outtput 1 file\n",
    "reduced.coalesce(1).saveAsTextFile(\"output\")"
   ]
  },
  {
   "cell_type": "code",
   "execution_count": null,
   "id": "23ee118c",
   "metadata": {},
   "outputs": [],
   "source": []
  }
 ],
 "metadata": {
  "kernelspec": {
   "display_name": "Python 3 (ipykernel)",
   "language": "python",
   "name": "python3"
  },
  "language_info": {
   "codemirror_mode": {
    "name": "ipython",
    "version": 3
   },
   "file_extension": ".py",
   "mimetype": "text/x-python",
   "name": "python",
   "nbconvert_exporter": "python",
   "pygments_lexer": "ipython3",
   "version": "3.9.7"
  }
 },
 "nbformat": 4,
 "nbformat_minor": 5
}
